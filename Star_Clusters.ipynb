{
 "cells": [
  {
   "cell_type": "code",
   "execution_count": 1,
   "id": "99dfcef5-c38e-43d7-bccc-53a90aa49958",
   "metadata": {},
   "outputs": [
    {
     "name": "stderr",
     "output_type": "stream",
     "text": [
      "\u001b[32m\u001b[1m  Activating\u001b[22m\u001b[39m project at `~/Documents/PhD/MyPublications/2025/SISSI_II_Local_Bubble_Age/SISSI-II-Local-Bubble`\n"
     ]
    }
   ],
   "source": [
    "# load environment\n",
    "import Pkg; Pkg.activate(\".\")"
   ]
  },
  {
   "cell_type": "code",
   "execution_count": 2,
   "id": "6866a0da",
   "metadata": {},
   "outputs": [
    {
     "name": "stderr",
     "output_type": "stream",
     "text": [
      "\u001b[32m\u001b[1mPrecompiling\u001b[22m\u001b[39m project...\n",
      "\u001b[32m  ✓ \u001b[39m\u001b[90mLaTeXStrings\u001b[39m\n",
      "\u001b[32m  ✓ \u001b[39m\u001b[90mPtrArrays\u001b[39m\n",
      "\u001b[32m  ✓ \u001b[39m\u001b[90mDefineSingletons\u001b[39m\n",
      "\u001b[32m  ✓ \u001b[39m\u001b[90mInverseFunctions\u001b[39m\n",
      "\u001b[32m  ✓ \u001b[39m\u001b[90mCompositionsBase\u001b[39m\n",
      "\u001b[32m  ✓ \u001b[39m\u001b[90mArgCheck\u001b[39m\n",
      "\u001b[32m  ✓ \u001b[39m\u001b[90mCompat\u001b[39m\n",
      "\u001b[32m  ✓ \u001b[39m\u001b[90mRequires\u001b[39m\n",
      "\u001b[32m  ✓ \u001b[39m\u001b[90mConstructionBase\u001b[39m\n",
      "\u001b[32m  ✓ \u001b[39m\u001b[90mJLLWrappers\u001b[39m\n",
      "\u001b[32m  ✓ \u001b[39m\u001b[90mOrderedCollections\u001b[39m\n",
      "\u001b[32m  ✓ \u001b[39m\u001b[90mInitialValues\u001b[39m\n",
      "\u001b[32m  ✓ \u001b[39m\u001b[90mAliasTables\u001b[39m\n",
      "\u001b[32m  ✓ \u001b[39m\u001b[90mConstructionBase → ConstructionBaseLinearAlgebraExt\u001b[39m\n",
      "\u001b[32m  ✓ \u001b[39m\u001b[90mCompat → CompatLinearAlgebraExt\u001b[39m\n",
      "\u001b[32m  ✓ \u001b[39m\u001b[90mAdapt\u001b[39m\n",
      "\u001b[32m  ✓ \u001b[39m\u001b[90mIrrationalConstants\u001b[39m\n",
      "\u001b[32m  ✓ \u001b[39m\u001b[90mConda\u001b[39m\n",
      "\u001b[32m  ✓ \u001b[39m\u001b[90mCFITSIO_jll\u001b[39m\n",
      "\u001b[32m  ✓ \u001b[39m\u001b[90mBaselet\u001b[39m\n",
      "\u001b[32m  ✓ \u001b[39m\u001b[90mTables\u001b[39m\n",
      "\u001b[32m  ✓ \u001b[39m\u001b[90mCompositionsBase → CompositionsBaseInverseFunctionsExt\u001b[39m\n",
      "\u001b[32m  ✓ \u001b[39m\u001b[90mInverseFunctions → InverseFunctionsTestExt\u001b[39m\n",
      "\u001b[32m  ✓ \u001b[39m\u001b[90mAdapt → AdaptSparseArraysExt\u001b[39m\n",
      "\u001b[32m  ✓ \u001b[39m\u001b[90mColorTypes\u001b[39m\n",
      "\u001b[32m  ✓ \u001b[39m\u001b[90mLogExpFunctions\u001b[39m\n",
      "\u001b[32m  ✓ \u001b[39m\u001b[90mCFITSIO\u001b[39m\n",
      "\u001b[32m  ✓ \u001b[39m\u001b[90mInverseFunctions → InverseFunctionsDatesExt\u001b[39m\n",
      "\u001b[32m  ✓ \u001b[39m\u001b[90mReferenceables\u001b[39m\n",
      "\u001b[32m  ✓ \u001b[39m\u001b[90mLogExpFunctions → LogExpFunctionsInverseFunctionsExt\u001b[39m\n",
      "\u001b[32m  ✓ \u001b[39m\u001b[90mMacroTools\u001b[39m\n",
      "\u001b[32m  ✓ \u001b[39m\u001b[90mDataStructures\u001b[39m\n",
      "\u001b[32m  ✓ \u001b[39mFITSIO\n",
      "\u001b[32m  ✓ \u001b[39m\u001b[90mSortingAlgorithms\u001b[39m\n",
      "\u001b[32m  ✓ \u001b[39m\u001b[90mSetfield\u001b[39m\n",
      "\u001b[32m  ✓ \u001b[39mHealpix\n",
      "\u001b[32m  ✓ \u001b[39m\u001b[90mColorVectorSpace\u001b[39m\n",
      "\u001b[32m  ✓ \u001b[39m\u001b[90mSplittablesBase\u001b[39m\n",
      "\u001b[32m  ✓ \u001b[39m\u001b[90mAccessors\u001b[39m\n",
      "\u001b[32m  ✓ \u001b[39mStatsBase\n",
      "\u001b[32m  ✓ \u001b[39m\u001b[90mAccessors → LinearAlgebraExt\u001b[39m\n",
      "\u001b[32m  ✓ \u001b[39mColors\n",
      "\u001b[32m  ✓ \u001b[39m\u001b[90mAccessors → TestExt\u001b[39m\n",
      "\u001b[32m  ✓ \u001b[39m\u001b[90mBangBang\u001b[39m\n",
      "\u001b[32m  ✓ \u001b[39m\u001b[90mBangBang → BangBangTablesExt\u001b[39m\n",
      "\u001b[32m  ✓ \u001b[39m\u001b[90mMicroCollections\u001b[39m\n",
      "\u001b[32m  ✓ \u001b[39mColorSchemes\n",
      "\u001b[32m  ✓ \u001b[39m\u001b[90mTransducers\u001b[39m\n",
      "\u001b[32m  ✓ \u001b[39m\u001b[90mTransducers → TransducersAdaptExt\u001b[39m\n",
      "\u001b[32m  ✓ \u001b[39mPyCall\n",
      "\u001b[32m  ✓ \u001b[39m\u001b[90mTransducers → TransducersReferenceablesExt\u001b[39m\n",
      "\u001b[32m  ✓ \u001b[39mThreadsX\n",
      "\u001b[32m  ✓ \u001b[39mPyPlot\n",
      "  53 dependencies successfully precompiled in 18 seconds. 26 already precompiled.\n"
     ]
    }
   ],
   "source": [
    "Pkg.instantiate();"
   ]
  },
  {
   "cell_type": "markdown",
   "id": "2b405584",
   "metadata": {},
   "source": [
    "# Packages & Includes"
   ]
  },
  {
   "cell_type": "code",
   "execution_count": null,
   "id": "1c272d12-57ab-4ed9-b995-9ef80f423264",
   "metadata": {},
   "outputs": [
    {
     "data": {
      "text/plain": [
       "PyObject <module 'labellines' from '/home/leonard/miniconda3/lib/python3.9/site-packages/labellines/__init__.py'>"
      ]
     },
     "metadata": {},
     "output_type": "display_data"
    }
   ],
   "source": [
    "# Julia packages\n",
    "using PyPlot, ColorSchemes, Colors\n",
    "using DelimitedFiles\n",
    "using Random\n",
    "using LinearAlgebra\n",
    "using StatsBase\n",
    "using ThreadsX\n",
    "using FITSIO\n",
    "\n",
    "# Python packages\n",
    "using PyCall\n",
    "gpy = pyimport(\"galpy\")\n",
    "pot = pyimport(\"galpy.potential\")\n",
    "gpy_coords = pyimport(\"galpy.util.coords\")\n",
    "orbit = pyimport(\"galpy.orbit\")"
   ]
  },
  {
   "cell_type": "markdown",
   "id": "50cc4f5b",
   "metadata": {},
   "source": [
    "# Constants"
   ]
  },
  {
   "cell_type": "markdown",
   "id": "ec57ce4d",
   "metadata": {},
   "source": [
    "## Numerical Constants"
   ]
  },
  {
   "cell_type": "code",
   "execution_count": null,
   "id": "486b9156",
   "metadata": {},
   "outputs": [
    {
     "data": {
      "text/plain": [
       "5.0e-324"
      ]
     },
     "execution_count": 3,
     "metadata": {},
     "output_type": "execute_result"
    }
   ],
   "source": [
    "const TINY = nextfloat(0.0)"
   ]
  },
  {
   "cell_type": "markdown",
   "id": "44d6d2d3",
   "metadata": {},
   "source": [
    "## Physical Constants"
   ]
  },
  {
   "cell_type": "code",
   "execution_count": 4,
   "id": "bab320c6",
   "metadata": {},
   "outputs": [
    {
     "data": {
      "text/plain": [
       "1.380649e-16"
      ]
     },
     "execution_count": 4,
     "metadata": {},
     "output_type": "execute_result"
    }
   ],
   "source": [
    "# Some physical constants (in cgs units)\n",
    "const mH   = 1.67262192e-24        # proton/hydrogen mass\n",
    "const X_H  = 0.76                  # primordial hydrodgen fraction\n",
    "const Y_He = (1 - X_H) / X_H / 4   # primordial abundance of helium\n",
    "const μ    = (1 / X_H) * mH        # primordial mean atomic weight\n",
    "const kB   = 1.380649e-16          # Boltzmann constant"
   ]
  },
  {
   "cell_type": "markdown",
   "id": "b2510415",
   "metadata": {},
   "source": [
    "## Units"
   ]
  },
  {
   "cell_type": "code",
   "execution_count": 5,
   "id": "2941901b",
   "metadata": {},
   "outputs": [
    {
     "data": {
      "text/plain": [
       "1653.19183"
      ]
     },
     "execution_count": 5,
     "metadata": {},
     "output_type": "execute_result"
    }
   ],
   "source": [
    "# All units are in cgs unless otherwise specified\n",
    "# Length\n",
    "const μm  = 1e-4\n",
    "const pc  = 3.086e18\n",
    "const kpc = 1e3 * pc\n",
    "\n",
    "# Time\n",
    "const yr  = 3.155e7\n",
    "const kyr = 1e3 * yr\n",
    "const Myr = 1e6 * yr\n",
    "\n",
    "# Mass\n",
    "const Msol = 1.989e33\n",
    "\n",
    "# Velocity\n",
    "const km_s    = 1e5\n",
    "\n",
    "# Density\n",
    "const Dunit = 1653.19183 # Conversion factor between differential extinction & Hydrogen number density (O'Neill et al. 2024)"
   ]
  },
  {
   "cell_type": "markdown",
   "id": "296a4fb8",
   "metadata": {},
   "source": [
    "# Function Definitions"
   ]
  },
  {
   "cell_type": "markdown",
   "id": "936787b6",
   "metadata": {},
   "source": [
    "## Probability Density Functions"
   ]
  },
  {
   "cell_type": "code",
   "execution_count": null,
   "id": "ee41ef81",
   "metadata": {},
   "outputs": [],
   "source": [
    "# smooth quantile-function & pdf\n",
    "quant(y::Real; β::Real=0.7, γ::Real=1, a::Vector{<:Real}=[1, 1, 1]) = y^β / (1-y)^γ * dot(a, [1, y, sin(π * y)])\n",
    "prob(y::Real; β::Real=0.7, γ::Real=1, a::Vector{<:Real}=[1, 1, 1])  = ((β + (γ-β) * y) * y^(β-1) / (1-y)^(γ+1) * dot(a,[1, y, sin(π * y)]) + y^β / (1-y)^γ * dot(a, [0, 1, π * cos(π * y)]))^-1"
   ]
  },
  {
   "cell_type": "code",
   "execution_count": null,
   "id": "03631d05",
   "metadata": {},
   "outputs": [],
   "source": [
    "# Marginal PDF for discrete events (SNe)\n",
    "# Given the p0 = P(t < t_delay)\n",
    "# To get the pdf, given t > t_delay, I need to simply multiply the value for N > 0 with (1 - p0) and at N=0 P(N=0|t > t_delay) = (P_0 - p0) / (1 - p0)\n",
    "# similarly for the quantile function I can just evaluate at p -> p0 + (1-p0) * p.\n",
    "\n",
    "\"Return the probability of exactly N supernova given the percentile vector Q and the probability of getting exactly 0 SNe\"\n",
    "function PDF_N_SN(N; Q::Vector{<:Real}, P_0::Real)\n",
    "    if N == 0\n",
    "        return P_0\n",
    "    else\n",
    "        if N <= Q[1]\n",
    "            return (0.16-P_0) / Q[1]\n",
    "        elseif N <= Q[2]\n",
    "            p = Q[1] == 0 ? (0.34-P_0) : 0.34\n",
    "            return p / (Q[2] - Q[1]) \n",
    "        elseif N <= Q[3]\n",
    "            p = Q[2] == 0 ? (0.34-P_0) : 0.34\n",
    "            return p / (Q[3] - Q[2])\n",
    "        else\n",
    "            norm = Q[3] == 0.0 ? (1-P_0) : 0.16\n",
    "            return norm * (ℯ-1) * exp(-(N-Q[3]))\n",
    "        end\n",
    "    end\n",
    "end\n",
    "\n",
    "\"Return the Quantile of the SN pdf.\"\n",
    "function Quantile_N_SN(p::Real; Q::Vector{<:Real}, P_0::Real)\n",
    "    if p <= P_0\n",
    "        return 0\n",
    "    elseif p <= 0.16\n",
    "        return ceil(Int, (p - P_0) / (0.16 - P_0) * Q[1])\n",
    "    elseif p <= 0.5\n",
    "        p0 = max(P_0, 0.16)\n",
    "        return Q[1] + ceil(Int, (p - p0) / (0.5 - p0) * (Q[2] - Q[1]))\n",
    "    elseif p <= 0.84\n",
    "        p0 = max(P_0, 0.5)\n",
    "        return Q[2] + ceil(Int, (p - p0) / (0.84 - p0) * (Q[3] - Q[2]))\n",
    "    else\n",
    "        p0 = max(P_0, 0.84)\n",
    "        return Q[3] + ceil(Int, log((1 - p0) / (1-p)))\n",
    "    end\n",
    "end"
   ]
  },
  {
   "cell_type": "code",
   "execution_count": null,
   "id": "4a756bab",
   "metadata": {},
   "outputs": [],
   "source": [
    "\"Return the probability of P(t_age < t_delay) and the probability of getting exactly 0 SNe.\"\n",
    "function compute_P0(N_SN::Vector{<:Real}, P_age::Tuple{<:Real, <:Real, <:Vector{<:Real}}, age::Vector{<:Real}; \n",
    "                    p::Vector{<:Real}=[0.16, 0.5, 0.84], t_delay::Real=3.0, TOL::Real=1e-4)\n",
    "    # lower limit of P0 based on zero quantiles\n",
    "    P_0 = maximum([N_SN[i] == 0 ? p[i] : 0.0 for i in eachindex(p)])\n",
    "\n",
    "    # lower limit of P0 based on non-zero probabiliy of N=0\n",
    "    i1 = findfirst(N_SN .> 0)\n",
    "    if !isnothing(i1)\n",
    "        dp = i1 == 1 ? p[1] : p[i1] - p[i1-1]\n",
    "        P_0 = max(P_0, dp / (1+N_SN[i1]))\n",
    "    end\n",
    "\n",
    "    # get probability of t_age < t_delay    \n",
    "    # get quantile function\n",
    "    q(y) = quant(y, β=P_age[1], γ=P_age[2], a=P_age[3])\n",
    "\n",
    "    # get initial guess\n",
    "    i0 = findfirst(age .> t_delay)\n",
    "    p0 = !isnothing(i0) ? (i0 > 1 ? p[i0-1] : 0.0) : p[end]\n",
    "    p1 = !isnothing(i0) ? p[i0] : 1.0\n",
    "    pn = 0.5 * (p0 + p1)\n",
    "\n",
    "    while p1 - p0 > TOL\n",
    "        pn = 0.5 * (p0 + p1)\n",
    "\n",
    "        if q(pn) < t_delay\n",
    "            p0 = pn\n",
    "        else\n",
    "            p1 = pn\n",
    "        end \n",
    "    end\n",
    "\n",
    "    return pn, max(pn, P_0)\n",
    "end"
   ]
  },
  {
   "cell_type": "code",
   "execution_count": null,
   "id": "ef7ffc9e",
   "metadata": {},
   "outputs": [],
   "source": [
    "\"Return the probability of P(t_age < t).\"\n",
    "function P_exists(P_age::Tuple{<:Real, <:Real, <:Vector{<:Real}}, t::Real, age::Vector{<:Real}; \n",
    "                    p::Vector{<:Real}=[0.16, 0.5, 0.84], TOL::Real=1e-4)\n",
    "    # get probability of t_age < t_delay    \n",
    "    # get quantile function\n",
    "    q(y) = quant(y, β=P_age[1], γ=P_age[2], a=P_age[3])\n",
    "\n",
    "    # get initial guess\n",
    "    i0 = findfirst(age .> t)\n",
    "    p0 = !isnothing(i0) ? (i0 > 1 ? p[i0-1] : 0.0) : p[end]\n",
    "    p1 = !isnothing(i0) ? p[i0] : 1.0\n",
    "    pn = 0.5 * (p0 + p1)\n",
    "\n",
    "    while p1 - p0 > TOL\n",
    "        pn = 0.5 * (p0 + p1)\n",
    "\n",
    "        if q(pn) < t\n",
    "            p0 = pn\n",
    "        else\n",
    "            p1 = pn\n",
    "        end \n",
    "    end\n",
    "\n",
    "    return pn\n",
    "end"
   ]
  },
  {
   "cell_type": "markdown",
   "id": "0744e153",
   "metadata": {},
   "source": [
    "## I/O"
   ]
  },
  {
   "cell_type": "code",
   "execution_count": null,
   "id": "05b3006a",
   "metadata": {},
   "outputs": [
    {
     "data": {
      "text/plain": [
       "read_mean_dust_map_file"
      ]
     },
     "execution_count": 6,
     "metadata": {},
     "output_type": "execute_result"
    }
   ],
   "source": [
    "\"Read results data from csv file and format into data that one can work with.\"\n",
    "function read_data(fpath::String)\n",
    "    # read out full results table\n",
    "    data = readdlm(fpath, ',', skipstart=1)[1:end-18, :]\n",
    "\n",
    "    # assigned family\n",
    "    family = data[:, 66]\n",
    "    age = 10.0.^(data[:, 48:50]) / 1e6\n",
    "    positions = Float64.(data[:, 69:71])\n",
    "    velocity  = Float64.(data[:, 72:74])\n",
    "    mass      = Float64.(data[:, 82:84])\n",
    "    N_SN      = Float64.(data[:, 85:87])\n",
    "\n",
    "    # get SN Rate\n",
    "    R_SN = zeros(size(N_SN))\n",
    "    for i in eachindex(family)\n",
    "        R_SN[i, 1] = N_SN[i, 1] / min(40.0, age[i, 3])\n",
    "        R_SN[i, 2] = N_SN[i, 2] / min(40.0, age[i, 2]) \n",
    "        R_SN[i, 3] = N_SN[i, 3] / min(40.0, age[i, 1])\n",
    "    end\n",
    "    \n",
    "    # Split up by clusters\n",
    "    mask_Cr135 = family .== \"cr135\"\n",
    "    Cr135 = Dict(\"age\"    => age[mask_Cr135, :],\n",
    "                 \"mass\"   => mass[mask_Cr135, :],\n",
    "                 \"N_SN\"   => N_SN[mask_Cr135, :],\n",
    "                 \"R_SN\"   => R_SN[mask_Cr135, :],\n",
    "                 \"coords\" => positions[mask_Cr135, :],\n",
    "                 \"vel\"    => velocity[mask_Cr135, :])  \n",
    "\n",
    "    mask_M6 = family .== \"m6\"\n",
    "    M6 = Dict(\"age\"    => age[mask_M6, :],\n",
    "              \"mass\"   => mass[mask_M6, :],\n",
    "              \"N_SN\"   => N_SN[mask_M6, :],\n",
    "              \"R_SN\"   => R_SN[mask_M6, :],\n",
    "              \"coords\" => positions[mask_M6, :],\n",
    "              \"vel\"    => velocity[mask_M6, :])  \n",
    "        \n",
    "    mask_αPer = family .== \"alphaPer\"\n",
    "    αPer = Dict(\"age\"    => age[mask_αPer, :],\n",
    "                \"mass\"   => mass[mask_αPer, :],\n",
    "                \"N_SN\"   => N_SN[mask_αPer, :],\n",
    "                \"R_SN\"   => R_SN[mask_αPer, :],\n",
    "                \"coords\" => positions[mask_αPer, :],\n",
    "                \"vel\"    => velocity[mask_αPer, :])\n",
    "\n",
    "\n",
    "    return Cr135, M6, αPer\n",
    "end"
   ]
  },
  {
   "cell_type": "markdown",
   "id": "a866a06d",
   "metadata": {},
   "source": [
    "## Utility"
   ]
  },
  {
   "cell_type": "code",
   "execution_count": null,
   "id": "39c670ff",
   "metadata": {},
   "outputs": [
    {
     "data": {
      "text/plain": [
       "hasbad"
      ]
     },
     "execution_count": 7,
     "metadata": {},
     "output_type": "execute_result"
    }
   ],
   "source": [
    "\"Return N logarithmically spaced points between logx0 and logx1.\"\n",
    "LogRange(logx0::Real, logx1::Real, N::Integer) = 10.0.^(LinRange(logx0, logx1, N))\n",
    "\n",
    "\"convert healpix pixel to angle\"\n",
    "get_angle(ihp::Integer; nside::Integer=Nside) = pix2ang(Map{Float64, NestedOrder}(nside), ihp)\n",
    "\n",
    "\"get coordinates in heliocentric Galactic cartesian coordinates\"\n",
    "get_coordinates_3d(θ::Real, ϕ::Real) = [sin(θ) * cos(ϕ), sin(θ) * sin(ϕ), cos(θ)]\n",
    "\n",
    "\"Check if a number is NaN or Inf.\"\n",
    "isbad(x::Real) = isnan(x) || isinf(x)\n",
    "\n",
    "\"Check if an array has NaN or Inf values.\"\n",
    "hasbad(a::Array{<:Number}) = sum(isbad.(a)) .> 0\n",
    "\n",
    "\"Return linear interpolation operator from domain to target space\"\n",
    "function linear_interpolator(x_target::Vector{<:Real}, x_domain::Vector{<:Real})\n",
    "    L = zeros(length(x_target), length(x_domain))\n",
    "    \n",
    "    for j in eachindex(x_target)\n",
    "        for i in 1:length(x_domain)-1\n",
    "            if x_domain[i] <= x_target[j] <= x_domain[i+1]\n",
    "                Δx = x_domain[i+1] - x_domain[i]\n",
    "                L[j, i]   = (x_domain[i+1] - x_target[j]) / Δx\n",
    "                L[j, i+1] = (x_target[j]   - x_domain[i]) / Δx\n",
    "            end\n",
    "        end\n",
    "    end\n",
    "    \n",
    "    return L\n",
    "end\n",
    "\n",
    "\"Return a color given a colorscheme and a value\"\n",
    "function get_color(colorscheme, value; norm=nothing)\n",
    "    norm = isnothing(norm) ? f(x) = x : norm \n",
    "    color = colorscheme[norm(value)]\n",
    "    return (red(color), green(color), blue(color))\n",
    "end"
   ]
  },
  {
   "cell_type": "markdown",
   "id": "ddeba5de",
   "metadata": {},
   "source": [
    "## Orbit Integration"
   ]
  },
  {
   "cell_type": "code",
   "execution_count": null,
   "id": "6aa760cd",
   "metadata": {},
   "outputs": [],
   "source": [
    "\"Return the orbit of a particle starting of at heliocentric position xyz_hel [pc] with heliocentric speed UVW [km/s] as a function of time ts [Myr].\"\n",
    "function get_orbit(XYZ_hel::Vector{<:Real}, UVW::Vector{<:Real}, T::Vector{<:Real}; \n",
    "                   R_sun::Real=8.122, z_sun::Real=0.0208, Vc::Real=236.0, v_sun::Vector{<:Real}=[-11.1, 12.4, 7.25])\n",
    "    # get orbital timescale in Myr\n",
    "    t_unit = (R_sun * kpc) / (Vc * km_s) / Myr\n",
    "    \n",
    "    # convert to natural units\n",
    "    xyz_hel = XYZ_hel / (1e3 * R_sun)\n",
    "    uvw  = UVW / Vc\n",
    "    zsun = z_sun / R_sun\n",
    "    vsun = v_sun / Vc + [0, 1, 0]\n",
    "    t    = T / t_unit\n",
    "    \n",
    "    \n",
    "    # get coordinates in galactocentric Cartesian coordinates\n",
    "    x, y, z = gpy_coords.XYZ_to_galcenrect(xyz_hel..., Xsun=1.0, Zsun=zsun)\n",
    "\n",
    "    # get coordinates in galactocentric cylindrical coordinates\n",
    "    R, ϕ, z = gpy_coords.XYZ_to_galcencyl(xyz_hel..., Xsun=1.0, Zsun=zsun)\n",
    "\n",
    "    # get galactocentric cylindrical speeds\n",
    "    vR, vT, vz = gpy_coords.vxvyvz_to_galcencyl(uvw..., x, y, z, vsun=vsun, Xsun=1.0, Zsun=zsun)\n",
    "\n",
    "    # get 6D coordinate vector\n",
    "    c_6D = [R, vR, vT, z, vz, ϕ]\n",
    "\n",
    "    # generate orbit object and integrate orbit\n",
    "    o = orbit.Orbit(c_6D, ro=R_sun, zo=z_sun, vo=Vc, solarmotion=v_sun)\n",
    "    o.integrate(t, pot.MWPotential2014, method=\"odeint\")\n",
    "    \n",
    "    return o\n",
    "end\n",
    "\n",
    "\"Return positions in heliocentric frame given 6D coordinates in natural units\"\n",
    "function get_XYZ_hel(c_6D::Vector{<:Real}; R_sun::Real=8.122, z_sun::Real=0.0208, Vc::Real=236.0, v_sun::Vector{<:Real}=[-11.1, 12.4, 7.25])\n",
    "    return [gpy_coords.galcencyl_to_XYZ(c_6D[1], c_6D[6], c_6D[4], Xsun=1, Zsun=z_sun / R_sun)...] * 1e3 * R_sun\n",
    "end\n",
    "\n",
    "\"Return position of circular orbit centered around sun at t=0 as a function of time.\"\n",
    "function cicular_orbit(t::Real; R_sun::Real=8.122, z_sun::Real=0.0208, Vc::Real=236.0)\n",
    "    t_unit = (R_sun * kpc) / (Vc * km_s) / Myr\n",
    "    τ      = t / t_unit\n",
    "    return [R_sun * (1-cos(τ)), R_sun * sin(τ), z_sun] * 1e3\n",
    "end"
   ]
  },
  {
   "cell_type": "markdown",
   "id": "380c5ae3",
   "metadata": {},
   "source": [
    "# Loading the data"
   ]
  },
  {
   "cell_type": "code",
   "execution_count": null,
   "id": "2f0ca73d",
   "metadata": {},
   "outputs": [
    {
     "data": {
      "text/plain": [
       "\"path/to/data\""
      ]
     },
     "execution_count": 129,
     "metadata": {},
     "output_type": "execute_result"
    }
   ],
   "source": [
    "# Enter here the path to the data directory, where the cluster data files (cluster_sample_data.csv) are located\n",
    "path_data = \"path/to/data/\"\n",
    "\n",
    "# Names of the different cluster families\n",
    "families = [\"Cr135\", \"M6\", \"αPer\"]"
   ]
  },
  {
   "cell_type": "markdown",
   "id": "d8ab7988",
   "metadata": {},
   "source": [
    "## Star Clusters"
   ]
  },
  {
   "cell_type": "code",
   "execution_count": null,
   "id": "e8d71d90-464a-41c7-869a-a051f9d614e3",
   "metadata": {},
   "outputs": [],
   "source": [
    "# Load star cluster data\n",
    "Cr135, M6, αPer = read_data(path_data * \"cluster_sample_data.csv\")\n",
    "Families = Dict(\"Cr135\" => Cr135, \"M6\" => M6, \"αPer\" => αPer)"
   ]
  },
  {
   "cell_type": "markdown",
   "id": "4acceef4",
   "metadata": {},
   "source": [
    "## Local Bubble"
   ]
  },
  {
   "cell_type": "code",
   "execution_count": null,
   "id": "b21d2f9c",
   "metadata": {},
   "outputs": [],
   "source": [
    "# Load Local Bubble Shell data\n",
    "LB_shell = readdlm(path_data * \"LB_shell.csv\")\n",
    "x_LB = LB_shell[:, 1]\n",
    "y_LB = LB_shell[:, 2]\n",
    "z_LB = LB_shell[:, 3];"
   ]
  },
  {
   "cell_type": "markdown",
   "id": "fa84128d",
   "metadata": {},
   "source": [
    "### Compute 2D projection"
   ]
  },
  {
   "cell_type": "code",
   "execution_count": null,
   "id": "5bda0e59",
   "metadata": {},
   "outputs": [],
   "source": [
    "# physical extent of projection [-500 pc, 500 pc], ~2 pc resolution\n",
    "xbins = LinRange(-500, 500, 513)\n",
    "\n",
    "# compute projection\n",
    "h = fit(Histogram, (x_LB, y_LB), weights(ones(size(x_LB))), (xbins, xbins)).weights\n",
    "\n",
    "# rescale for better contrast\n",
    "h /= maximum(h)\n",
    "h = h.^0.4;\n",
    "\n",
    "# projection map\n",
    "LB = zeros(size(h)..., 4)\n",
    "LB[:, :, 3] .= 1 # blue channel\n",
    "LB[:, :, 4] = permutedims(h); # alpha channel"
   ]
  },
  {
   "cell_type": "markdown",
   "id": "0af48da9",
   "metadata": {},
   "source": [
    "## Gas Distribution"
   ]
  },
  {
   "cell_type": "code",
   "execution_count": null,
   "id": "2fc0f71f",
   "metadata": {},
   "outputs": [],
   "source": [
    "# Load gas distribution\n",
    "f = FITS(path_data * \"mean_and_std_xyz.fits\")\n",
    "rho_xyz = read(f[2]) * Dunit;\n",
    "rho_xyz[isnan.(rho_xyz)] .= 0.0\n",
    "close(f)\n",
    "Σ_gas = dropdims(sum(rho_xyz, dims=(3,)) * 2 * pc^3 * μ / Msol, dims=(3,));"
   ]
  },
  {
   "cell_type": "markdown",
   "id": "1f72d6f4",
   "metadata": {},
   "source": [
    "# Analysis"
   ]
  },
  {
   "cell_type": "code",
   "execution_count": null,
   "id": "e16e015f",
   "metadata": {},
   "outputs": [],
   "source": [
    "# Model parameters\n",
    "t_delay  = 3.0   # Minimum delay timescale [Myr]\n",
    "t_active = 40.0  # Time delay of most delayed type-II SNe [Myr]"
   ]
  },
  {
   "cell_type": "markdown",
   "id": "bf96de2b",
   "metadata": {},
   "source": [
    "## Assigning PDFs"
   ]
  },
  {
   "cell_type": "code",
   "execution_count": null,
   "id": "ac2ed01f",
   "metadata": {},
   "outputs": [],
   "source": [
    "# which probability quantiles are considered?\n",
    "p = [0.16, 0.5, 0.84]"
   ]
  },
  {
   "cell_type": "code",
   "execution_count": null,
   "id": "51fe4fb5",
   "metadata": {},
   "outputs": [],
   "source": [
    "# Matrix for weight assignment of mass & age distributions\n",
    "M = zeros(3, 3)\n",
    "for i in 1:3 M[i, :] = [1, p[i], sin(π * p[i])] end\n",
    "M = inv(M)"
   ]
  },
  {
   "cell_type": "code",
   "execution_count": null,
   "id": "b7814a74",
   "metadata": {},
   "outputs": [],
   "source": [
    "# Vector for weighting Q\n",
    "γ=1\n",
    "β=0.7\n",
    "\n",
    "w = @. (1 - p)^γ / p^β"
   ]
  },
  {
   "cell_type": "code",
   "execution_count": null,
   "id": "f29e2f47",
   "metadata": {},
   "outputs": [],
   "source": [
    "# compute PDF parameters for each cluster\n",
    "PDFs = Dict{String, Dict{String, Vector{Tuple{<:Real, <:Real, <:Vector{<:Real}}}}}()\n",
    "\n",
    "for family in families\n",
    "    mass  = Families[family][\"mass\"]\n",
    "    age   = Families[family][\"age\"]\n",
    "    N_SN  = Families[family][\"N_SN\"]\n",
    "\n",
    "    # Number of clusters\n",
    "    Ncl = length(mass[:, 2])\n",
    "\n",
    "    P_mass = Vector{Tuple{<:Real, <:Real, <:Vector{<:Real}}}(undef, Ncl)\n",
    "    P_age  = Vector{Tuple{<:Real, <:Real, <:Vector{<:Real}}}(undef, Ncl)\n",
    "    P_SN   = Vector{Tuple{<:Real, <:Real, <:Vector{<:Real}}}(undef, Ncl)\n",
    "\n",
    "    for i in eachindex(mass[:, 2])\n",
    "        # compute parameters of mass & age PDFs\n",
    "        P_mass[i]  = (β, γ, M * (w .* mass[i, :]))\n",
    "        P_age[i]   = (β, γ, M * (w .* age[i, :]))\n",
    "        p0, P_0    = compute_P0(N_SN[i, :], P_age[i], age[i, :], p=p, t_delay=t_delay)\n",
    "        P_SN[i]    = (p0, P_0, N_SN[i, :])\n",
    "    end\n",
    "\n",
    "    # save results\n",
    "    PDFs[family] = Dict{String, Vector{Tuple{<:Real, <:Real, <:Vector{<:Real}}}}()\n",
    "    PDFs[family][\"P_mass\"] = P_mass\n",
    "    PDFs[family][\"P_age\"]  = P_age\n",
    "    PDFs[family][\"P_SN\"]   = P_SN\n",
    "end"
   ]
  },
  {
   "cell_type": "markdown",
   "id": "b1606ddc",
   "metadata": {},
   "source": [
    "## Drawing Samples"
   ]
  },
  {
   "cell_type": "code",
   "execution_count": null,
   "id": "ce46dfb3",
   "metadata": {},
   "outputs": [],
   "source": [
    "# Number of statistical sample points\n",
    "Nsample = 10^6\n",
    "\n",
    "samples = Dict{String, Dict{String, Matrix{<:Real}}}()\n",
    "\n",
    "for family in families\n",
    "    # Parameters for pdfs\n",
    "    P_mass = PDFs[family][\"P_mass\"]\n",
    "    P_age  = PDFs[family][\"P_age\"]\n",
    "    P_SN   = PDFs[family][\"P_SN\"]\n",
    "\n",
    "    # Number of clusters\n",
    "    Ncl = length(P_mass)\n",
    "\n",
    "    # draw random numbers\n",
    "    mass_samples = rand(Ncl, Nsample)\n",
    "    age_samples  = rand(Ncl, Nsample)\n",
    "    N_SN_samples = zeros(Int, Ncl, Nsample)\n",
    "\n",
    "    for i in eachindex(P_mass)\n",
    "        # compute sample points\n",
    "        # mass\n",
    "        q_mass(y) = quant(y, β=P_mass[i][1], γ=P_mass[i][2], a=P_mass[i][3])\n",
    "        mass_samples[i, :] = q_mass.(mass_samples[i, :])\n",
    "\n",
    "        # age\n",
    "        q_age(y) = quant(y, β=P_age[i][1], γ=P_age[i][2], a=P_age[i][3])\n",
    "        age_samples[i, :] = q_age.(age_samples[i, :])\n",
    "\n",
    "        yes_SNe = age_samples[i, :] .> t_delay\n",
    "        \n",
    "        # N_SN\n",
    "        q_N_SN(y) = Quantile_N_SN(P_SN[i][1] + (1 - P_SN[i][1]) * y, Q=P_SN[i][3], P_0=P_SN[i][2])\n",
    "        N_yes = sum(yes_SNe)\n",
    "        N_SN_samples[i, yes_SNe] .= q_N_SN.(rand(N_yes))\n",
    "    end\n",
    "\n",
    "    # save results\n",
    "    samples[family] = Dict{String, Matrix{<:Real}}()\n",
    "    samples[family][\"mass\"] = mass_samples\n",
    "    samples[family][\"age\"]  = age_samples\n",
    "    samples[family][\"N_SN\"] = N_SN_samples\n",
    "end"
   ]
  },
  {
   "cell_type": "markdown",
   "id": "30de5922",
   "metadata": {},
   "source": [
    "## Compute Orbits"
   ]
  },
  {
   "cell_type": "code",
   "execution_count": null,
   "id": "49552823",
   "metadata": {},
   "outputs": [],
   "source": [
    "# specify orbit snapshots\n",
    "t_orbit = [(0:-0.1:-20.0)...]"
   ]
  },
  {
   "cell_type": "code",
   "execution_count": null,
   "id": "4de100ed",
   "metadata": {},
   "outputs": [],
   "source": [
    "# set SN delay timescale\n",
    "orbits = Dict{String, Vector{PyObject}}()\n",
    "\n",
    "for family in families\n",
    "    XYZ  = Families[family][\"coords\"]\n",
    "    UVW  = Families[family][\"vel\"]\n",
    "\n",
    "    # Number of clusters\n",
    "    Ncl = size(XYZ)[1]\n",
    "\n",
    "    # get orbit vector\n",
    "    os = Vector{PyObject}(undef, Ncl)\n",
    "\n",
    "    for i in eachindex(os)\n",
    "        # compute parameters of mass & age PDFs\n",
    "        os[i] = get_orbit(XYZ[i, :], UVW[i, :], t_orbit)\n",
    "    end\n",
    "\n",
    "    # save results\n",
    "    orbits[family] = os\n",
    "end"
   ]
  },
  {
   "cell_type": "markdown",
   "id": "cc740164",
   "metadata": {},
   "source": [
    "### Geometrical cut: The Local Bubble"
   ]
  },
  {
   "cell_type": "code",
   "execution_count": null,
   "id": "8833acaa",
   "metadata": {},
   "outputs": [],
   "source": [
    "# geometry cut\n",
    "xyz     = Families[\"αPer\"][\"coords\"]\n",
    "mask_LB = xyz[:, 2] + 0.8 * xyz[:, 1] .< 320"
   ]
  },
  {
   "cell_type": "markdown",
   "id": "8a443fb3",
   "metadata": {},
   "source": [
    "### SN Rate along orbit"
   ]
  },
  {
   "cell_type": "code",
   "execution_count": null,
   "id": "03ec2128",
   "metadata": {},
   "outputs": [],
   "source": [
    "# Ntime\n",
    "Ntime = length(t_orbit)\n",
    "\n",
    "# create output object\n",
    "SN_Rates = Dict{String, Vector{Matrix{Float64}}}()\n",
    "\n",
    "for family in families\n",
    "    # Parameters for age pdf\n",
    "    age = samples[family][\"age\"]\n",
    "    N_SN = samples[family][\"N_SN\"]\n",
    "\n",
    "    R_SN = @. N_SN / max(min(age, t_active) - t_delay, TINY)\n",
    "\n",
    "    # Number of clusters\n",
    "    Ncl = size(age)[1]\n",
    "\n",
    "    # SFH samples\n",
    "    SNR_History = Vector{Matrix{Float64}}(undef, Ncl)\n",
    "\n",
    "    for icl in 1:Ncl\n",
    "        # SFH samples\n",
    "        SNR_sample = zeros(Ntime, Nsample)\n",
    "\n",
    "        Threads.@threads for is in 1:Nsample\n",
    "            it = -t_active .<= (t_orbit .- age[icl, is]) .<= -t_delay\n",
    "            SNR_sample[it, is] .= R_SN[icl, is]\n",
    "        end\n",
    "\n",
    "        # compute statistics\n",
    "        SNR_stat = zeros(Ntime, 3)\n",
    "        Threads.@threads for it in eachindex(t_orbit)\n",
    "            SNR_stat[it, :] = quantile(SNR_sample[it, :], p)\n",
    "        end\n",
    "                \n",
    "        # store results\n",
    "        SNR_History[icl] = SNR_stat\n",
    "    end\n",
    "\n",
    "    # store SN Rate History of all clusters\n",
    "    SN_Rates[family] = SNR_History\n",
    "end"
   ]
  },
  {
   "cell_type": "markdown",
   "id": "a05fc285",
   "metadata": {},
   "source": [
    "### Active Probability along orbit"
   ]
  },
  {
   "cell_type": "code",
   "execution_count": null,
   "id": "cb48cae4",
   "metadata": {},
   "outputs": [],
   "source": [
    "# Ntime\n",
    "Ntime = length(t_orbit)\n",
    "\n",
    "# create output object\n",
    "P_active = Dict{String, Vector{Vector{Float64}}}()\n",
    "\n",
    "for family in families\n",
    "    # Parameters for age pdf\n",
    "    age   = Families[family][\"age\"]\n",
    "    P_age = PDFs[family][\"P_age\"]\n",
    "\n",
    "    # Number of clusters\n",
    "    Ncl = length(P_age)\n",
    "\n",
    "    # active probability\n",
    "    p_active = Vector{Vector{Float64}}(undef, Ncl)\n",
    "\n",
    "    for icl in 1:Ncl\n",
    "        # Get the probability that the cluster was formed within the past 40 Myr\n",
    "        p_active[icl] = [P_exists(P_age[icl], -ti+t_active, age[icl, :]) - P_exists(P_age[icl], -ti+t_delay, age[icl, :])   for ti in t]\n",
    "    end\n",
    "\n",
    "    # store active probability distribution of all clusters\n",
    "    P_active[family] = p_active\n",
    "end"
   ]
  },
  {
   "cell_type": "markdown",
   "id": "65dc5e43",
   "metadata": {},
   "source": [
    "## Star-formation History"
   ]
  },
  {
   "cell_type": "code",
   "execution_count": null,
   "id": "0b4ec543",
   "metadata": {},
   "outputs": [],
   "source": [
    "# Specify times at which SFH is to be sampled\n",
    "t_SFH = [LinRange(0, 200, 1000)...]"
   ]
  },
  {
   "cell_type": "markdown",
   "id": "0d31c584",
   "metadata": {},
   "source": [
    "### Cluster Families"
   ]
  },
  {
   "cell_type": "code",
   "execution_count": null,
   "id": "53e91f76",
   "metadata": {},
   "outputs": [],
   "source": [
    "# Ntime\n",
    "Ntime = length(t_SFH)\n",
    "\n",
    "# create output object\n",
    "SFH  = Dict(family => zeros(Ntime, 3) for family in families)\n",
    "\n",
    "# cumulative probability\n",
    "cp = LinRange(0, 0.999, 10 * Ntime)\n",
    "\n",
    "for family in families\n",
    "    # Parameters for age pdf\n",
    "    P_age = PDFs[family][\"P_age\"]\n",
    "\n",
    "    # mass samples\n",
    "    mass = samples[family][\"mass\"]\n",
    "\n",
    "    # SFH samples\n",
    "    SFH_sample = zeros(Ntime, Nsample)\n",
    "\n",
    "    for i in eachindex(P_age)\n",
    "        # get the age distribution of this cluster\n",
    "        t     = quant.(cp, β=P_age[i][1], γ=P_age[i][2], a=P_age[i][3])\n",
    "        pdf_t = prob.(cp, β=P_age[i][1], γ=P_age[i][2], a=P_age[i][3])\n",
    "\n",
    "        # get interpolatation onto time\n",
    "        pdf = linear_interpolator(t_SFH, t) * pdf_t\n",
    "\n",
    "        Threads.@threads for isample in eachindex(mass[i, :])\n",
    "            SFH_sample[:, isample] += mass[i, isample] * pdf\n",
    "        end\n",
    "    end\n",
    "\n",
    "    # save results\n",
    "    Threads.@threads for it in eachindex(t_SFH)\n",
    "        SFH[family][it, :] = quantile(SFH_sample[it, :], p)\n",
    "    end\n",
    "end"
   ]
  },
  {
   "cell_type": "markdown",
   "id": "050c102e",
   "metadata": {},
   "source": [
    "### Local Bubble"
   ]
  },
  {
   "cell_type": "code",
   "execution_count": null,
   "id": "66d01ae5",
   "metadata": {},
   "outputs": [],
   "source": [
    "# Ntime\n",
    "Ntime = length(t_SFH)\n",
    "\n",
    "# create output object\n",
    "SFH_LB = zeros(Ntime, 3)\n",
    "\n",
    "# cumulative probability\n",
    "cp = LinRange(0, 0.999, 10 * Ntime)\n",
    "\n",
    "# Parameters for age pdf\n",
    "P_age = PDFs[\"αPer\"][\"P_age\"][mask_LB]\n",
    "\n",
    "# mass samples\n",
    "mass = samples[\"αPer\"][\"mass\"][mask_LB, :]\n",
    "\n",
    "# SFH samples\n",
    "SFH_sample = zeros(Ntime, Nsample)\n",
    "\n",
    "for i in eachindex(P_age)\n",
    "    # get the age distribution of this cluster\n",
    "    t     = quant.(cp, β=P_age[i][1], γ=P_age[i][2], a=P_age[i][3])\n",
    "    pdf_t = prob.(cp, β=P_age[i][1], γ=P_age[i][2], a=P_age[i][3])\n",
    "\n",
    "    # get interpolatation onto time\n",
    "    pdf = linear_interpolator(t_SFH, t) * pdf_t\n",
    "\n",
    "    Threads.@threads for isample in eachindex(mass[i, :])\n",
    "        SFH_sample[:, isample] += mass[i, isample] * pdf\n",
    "    end\n",
    "end\n",
    "\n",
    "# save results\n",
    "Threads.@threads for it in eachindex(t_SFH)\n",
    "    SFH_LB[it, :] = quantile(SFH_sample[it, :], p)\n",
    "end"
   ]
  },
  {
   "cell_type": "markdown",
   "id": "f64849ed",
   "metadata": {},
   "source": [
    "## Supernova Rate"
   ]
  },
  {
   "cell_type": "code",
   "execution_count": null,
   "id": "d765b3e7",
   "metadata": {},
   "outputs": [],
   "source": [
    "# Specify times at which SNR is to be sampled\n",
    "t_SNR = [LinRange(0, 200, 1000)...]"
   ]
  },
  {
   "cell_type": "markdown",
   "id": "df48f528",
   "metadata": {},
   "source": [
    "### Cluster Families"
   ]
  },
  {
   "cell_type": "code",
   "execution_count": null,
   "id": "c053bac4",
   "metadata": {},
   "outputs": [],
   "source": [
    "# Ntime\n",
    "Ntime = length(t_SNR)\n",
    "\n",
    "# create output object\n",
    "SNR  = Dict(family => zeros(Ntime, 3) for family in families)\n",
    "\n",
    "for family in families\n",
    "    # Parameters for age pdf\n",
    "    age = samples[family][\"age\"]\n",
    "\n",
    "    # mass samples\n",
    "    N_SN = samples[family][\"N_SN\"]\n",
    "\n",
    "    R_SN = @. N_SN / max(min(age, t_active) - t_delay, TINY)\n",
    "\n",
    "    # SFH samples\n",
    "    SNR_sample = zeros(Ntime, Nsample)\n",
    "\n",
    "    Threads.@threads for ij in CartesianIndices(age)\n",
    "        it = -t_active .<= (t_SNR .- age[ij]) .<= -t_delay\n",
    "        SNR_sample[it, ij[2]] .+= R_SN[ij]\n",
    "    end\n",
    "\n",
    "    # save results\n",
    "    Threads.@threads for it in eachindex(t_SNR)\n",
    "        SNR[family][it, :] = quantile(SNR_sample[it, :], p)\n",
    "    end\n",
    "end"
   ]
  },
  {
   "cell_type": "markdown",
   "id": "5d6cae73",
   "metadata": {},
   "source": [
    "### Local Bubble"
   ]
  },
  {
   "cell_type": "code",
   "execution_count": null,
   "id": "e7e80c42",
   "metadata": {},
   "outputs": [],
   "source": [
    "# Ntime\n",
    "Ntime = length(t_SNR)\n",
    "\n",
    "# create output object\n",
    "SNR_LB  = zeros(Ntime, 3)\n",
    "\n",
    "# estimate SN Rate\n",
    "age = samples[\"αPer\"][\"age\"][mask_LB, :]\n",
    "N_SN = samples[\"αPer\"][\"N_SN\"][mask_LB, :]\n",
    "R_SN = @. N_SN / max(min(age, t_active) - t_delay, TINY)\n",
    "\n",
    "# SFH samples\n",
    "SNR_sample = zeros(Ntime, Nsample)\n",
    "\n",
    "Threads.@threads for ij in CartesianIndices(age)\n",
    "    it = -t_active .<= (t_SNR .- age[ij]) .<= -t_delay\n",
    "    SNR_sample[it, ij[2]] .+= R_SN[ij]\n",
    "end\n",
    "\n",
    "# save results\n",
    "Threads.@threads for it in eachindex(t_SNR)\n",
    "    SNR_LB[it, :] = quantile(SNR_sample[it, :], p)\n",
    "end"
   ]
  },
  {
   "cell_type": "code",
   "execution_count": null,
   "id": "5389f889",
   "metadata": {},
   "outputs": [],
   "source": [
    "# Integrate to get number of SNe in time intervals\n",
    "dt_SNR = t_SNR[2] - t_SNR[1]\n",
    "N_SN_5  = round.(Int, [0.5 * sum(SNR_LB[1:25, i] + SNR_LB[2:26, i]) * dt_SNR for i in 1:3])\n",
    "N_SN_10 = round.(Int, [0.5 * sum(SNR_LB[26:50, i] + SNR_LB[27:51, i]) * dt_SNR for i in 1:3])\n",
    "N_SN_15 = round.(Int, [0.5 * sum(SNR_LB[51:75, i] + SNR_LB[52:76, i]) * dt_SNR for i in 1:3])\n",
    "N_SN_20 = round.(Int, [0.5 * sum(SNR_LB[76:100, i] + SNR_LB[77:101, i]) * dt_SNR for i in 1:3]);"
   ]
  },
  {
   "cell_type": "markdown",
   "id": "7f109fff",
   "metadata": {},
   "source": [
    "# Plots"
   ]
  },
  {
   "cell_type": "code",
   "execution_count": null,
   "id": "07ed81f8",
   "metadata": {},
   "outputs": [],
   "source": [
    "# Plotting Parameters\n",
    "fontsize = 18\n",
    "output_directory = \"path/to/figures/\"\n",
    "colors  = Dict(\"Cr135\" => \"orange\", \"M6\" => \"royalblue\", \"αPer\" => \"crimson\")\n",
    "markers = Dict(\"Cr135\" => \"d\", \"M6\" => \"*\", \"αPer\" => \"o\")"
   ]
  },
  {
   "cell_type": "markdown",
   "id": "9c4fe805",
   "metadata": {},
   "source": [
    "## C.1 Example PDF"
   ]
  },
  {
   "cell_type": "code",
   "execution_count": null,
   "id": "6caae71c",
   "metadata": {},
   "outputs": [],
   "source": [
    "# Mass vs. SNe\n",
    "fig = plt.figure(figsize=(6, 4), num=1, clear=true)\n",
    "\n",
    "# example cluster\n",
    "Q = Families[\"αPer\"][\"age\"][1, :]\n",
    "y = LinRange(0, 1, 10000)\n",
    "\n",
    "# axis limits\n",
    "tlim = [0, 200]\n",
    "ylim = [0.0, 0.015]\n",
    "\n",
    "ax = gca()\n",
    "\n",
    "# plot pdf for various values of β\n",
    "βs  = 0.4:0.3:1.0\n",
    "cβ  = Dict(0.1 => \"cyan\", 0.4 => \"darkblue\", 0.7 => \"black\", 1.0 => \"darkred\")\n",
    "lwβ = Dict(0.1 => 1, 0.4 => 1, 0.7 => 3, 1.0 => 1)\n",
    "\n",
    "for b in βs\n",
    "    wb = @. (1 - p)^γ / p^b\n",
    "    a  = M * (wb .* Q)\n",
    "\n",
    "    x = quant.(y, β=b, γ=γ, a=a)\n",
    "    z = prob.(y, β=b, γ=γ, a=a)\n",
    "    \n",
    "    ax.plot(x, z, linestyle=\"-\", color=cβ[b], linewidth=lwβ[b], zorder=2, label=L\"\\mathrm{β = %$(b), \\ γ=1.0}\")\n",
    "end\n",
    "\n",
    "# plot pdf for various values of γ\n",
    "γs  = [0.7, 1.1]\n",
    "cγ  = Dict(0.7 => \"lightblue\", 1.0 => \"black\", 1.1 => \"orange\")\n",
    "\n",
    "for g in γs\n",
    "    wb = @. (1 - p)^g / p^β\n",
    "    a  = M * (wb .* Q)\n",
    "\n",
    "    x = quant.(y, β=β, γ=g, a=a)\n",
    "    z = prob.(y, β=β, γ=g, a=a)\n",
    "    \n",
    "    ax.plot(x, z, linestyle=\"--\", color=cγ[g], linewidth=1, zorder=2, label=L\"\\mathrm{β = 0.7, \\ γ=%$(g)}\")\n",
    "end\n",
    "\n",
    "for q in Q ax.axvline(q, linewidth=2, color=\"blue\", linestyle=\":\", zorder=1) end\n",
    "\n",
    "# decorate axes\n",
    "ax.set_ylabel(\"PDF\", fontsize=fontsize)\n",
    "ax.set_xlabel(L\"\\mathrm{Age \\ [Myr]}\", fontsize=fontsize)\n",
    "ax.legend(loc=\"best\", frameon=false, handlelength=1.5, fontsize=0.7fontsize)\n",
    "ax.tick_params(axis=\"both\", labelsize=fontsize)\n",
    "\n",
    "# set axis limits\n",
    "ax.set_xlim(tlim...)\n",
    "ax.set_ylim(ylim...)\n",
    "ax.set_yticklabels([])\n",
    "\n",
    "savefig(output_directory * \"pdf_example.pdf\", bbox_inches=\"tight\", dpi=300)\n",
    "fig.clear()"
   ]
  },
  {
   "cell_type": "markdown",
   "id": "232a5fd7",
   "metadata": {},
   "source": [
    "## C.2 Star-Formation History & Supernova Rate"
   ]
  },
  {
   "cell_type": "code",
   "execution_count": 1,
   "id": "e05a0bb4",
   "metadata": {},
   "outputs": [
    {
     "data": {
      "text/plain": [
       "Dict{Float64, Float64} with 4 entries:\n",
       "  0.0 => 0.15\n",
       "  5.0 => 0.15\n",
       "  3.0 => 0.3\n",
       "  1.0 => 0.15"
      ]
     },
     "metadata": {},
     "output_type": "display_data"
    }
   ],
   "source": [
    "t_delays = [0.0, 3.0, 5.0]\n",
    "c_delay  = Dict(0.0 => \"lightblue\", 1.0 => \"purple\", 3.0 => \"black\", 5.0 => \"darkred\")\n",
    "lw_d     = Dict(0.0 => 1, 1.0 => 1, 3.0 => 3, 5.0 => 1)\n",
    "α_d      = Dict(0.0 => 0.15, 1.0 => 0.15, 3.0 => 0.3, 5.0 => 0.15)"
   ]
  },
  {
   "cell_type": "markdown",
   "id": "13f6bd0c",
   "metadata": {},
   "source": [
    "Note that the below plot is done for a single value of t_delay.   \n",
    "For the paper we reran the above analysis multiple times for different values of t_delay and plotted them all in the same manner as below.   \n",
    "If this is desired as well it is straightforward to extend the scripts accordingly.   "
   ]
  },
  {
   "cell_type": "code",
   "execution_count": null,
   "id": "06a94f9c",
   "metadata": {},
   "outputs": [],
   "source": [
    "# create figure\n",
    "fig = plt.figure(figsize=(6, 12), num=1, clear=true)\n",
    "\n",
    "# axis limits\n",
    "tlim   = [-40, 0]\n",
    "SFHlim = [0.0, 1.6]\n",
    "SNRlim = [0.2, 20]\n",
    "dtlim  = [0.05, 4]\n",
    "\n",
    "family=\"αPer\"\n",
    "\n",
    "axs = fig.subplots(ncols=1, nrows=3)\n",
    "subplots_adjust(wspace=0.0, hspace=0.0)\n",
    "\n",
    "# reduce margins\n",
    "margins(0,0)\n",
    "\n",
    "# plot SFH\n",
    "ax = axs[1]\n",
    "\n",
    "ax.plot(-t_SFH, SFH[family][:, 2] / 1e3, color=\"black\", linewidth=3, zorder=2)\n",
    "ax.fill_between(-t_SFH, SFH[family][:, 1] / 1e3, SFH[family][:, 3] / 1e3, color=\"black\", zorder=1, alpha=0.3)\n",
    "\n",
    "# Local Bubble\n",
    "ax.plot(-t_SFH, SFH_LB[:, 2] / 1e3, color=\"purple\", linewidth=3, zorder=2)\n",
    "ax.fill_between(-t_SFH, SFH_LB[:, 1] / 1e3, SFH_LB[:, 3] / 1e3, color=\"purple\", zorder=1, alpha=0.3)\n",
    "\n",
    "# add legend handle for previous model\n",
    "ax.plot([NaN], [NaN], linestyle=\":\", linewidth=2, color=\"orange\", zorder=0, label=L\"\\mathrm{Z+22}\")\n",
    "ax.fill_between([NaN], [NaN], color=\"royalblue\", zorder=-1, alpha=0.2, label=\"This Work\")\n",
    "\n",
    "# decorate axes\n",
    "ax.set_ylabel(L\"\\mathrm{SF \\ Rate \\ [10^{3} \\ M_{\\odot} / Myr]}\", fontsize=fontsize)\n",
    "ax.legend(loc=\"best\", frameon=false, handlelength=1.5, fontsize=fontsize)\n",
    "ax.tick_params(axis=\"both\", labelsize=fontsize)\n",
    "\n",
    "# set axis limits\n",
    "ax.set_xlim(tlim...)\n",
    "ax.set_ylim(SFHlim...)\n",
    "\n",
    "# plot the SN-Rate\n",
    "ax = axs[2]\n",
    "\n",
    "t_d = t_delay\n",
    "#for t_d in t_delays\n",
    "    ax.plot(-t_SNR, SNR[family][:, 2], color=c_delay[t_d], zorder=2, linewidth=lw_d[t_d])\n",
    "    ax.fill_between(-t_SNR, SNR[family][:, 1], SNR[family][:, 3], color=c_delay[t_d], zorder=1, alpha=α_d[t_d])\n",
    "#end\n",
    "\n",
    "# Local Bubble\n",
    "ax.plot(-t_SNR, SNR_LB[:, 2], color=\"purple\", zorder=2, linewidth=3, label=\"Local Bubble\")\n",
    "ax.fill_between(-t_SNR, SNR_LB[:, 1], SNR_LB[:, 3], color=\"purple\", zorder=1, alpha=0.3)\n",
    "\n",
    "# Zucker model\n",
    "ax.axhline(1 / 1.06, linestyle=\":\", linewidth=2, color=\"orange\", zorder=0)\n",
    "ax.fill_between([-40, 0], [1 / (1.06 + 0.63), 1 / (1.06+0.63)], [1 / (1.06 - 0.39), 1 / (1.06-0.39)], color=\"orange\", zorder=-1, alpha=0.2)\n",
    "ax.fill_between([-40, 0], [1 / 0.1, 1 / 0.1], [1 / 0.3, 1 / 0.3], color=\"royalblue\", zorder=-1, alpha=0.2)\n",
    "\n",
    "# decorate axes\n",
    "ax.set_ylabel(L\"\\mathrm{SN \\ Rate \\ [Myr^{-1}]}\", fontsize=fontsize)\n",
    "ax.legend(loc=\"best\", frameon=false, handlelength=1.5, fontsize=fontsize)\n",
    "ax.tick_params(axis=\"both\", labelsize=fontsize)\n",
    "\n",
    "# set axis limits\n",
    "ax.set_xlim(tlim...)\n",
    "ax.set_ylim(SNRlim...)\n",
    "ax.set_yscale(\"log\")\n",
    "\n",
    "# plot the SN-time\n",
    "ax = axs[3]\n",
    "\n",
    "#for t_d in t_delays\n",
    "    ax.plot(-t_SNR, 1.0 ./ SNR[family][:, 2], color=c_delay[t_d], linewidth=lw_d[t_d], zorder=2, label=\" $t_d\")\n",
    "    ax.fill_between(-t_SNR, 1.0 ./ SNR[family][:, 1], 1.0 ./ SNR[family][:, 3], color=c_delay[t_d], zorder=1, alpha=α_d[t_d])\n",
    "#end\n",
    "\n",
    "# Local Bubble\n",
    "ax.plot(-t_SNR, 1.0 ./ SNR_LB[:, 2], color=\"purple\", zorder=2, linewidth=3)\n",
    "ax.fill_between(-t_SNR, 1.0 ./ SNR_LB[:, 1], 1.0 ./ SNR_LB[:, 3], color=\"purple\", zorder=1, alpha=0.3)\n",
    "\n",
    "# Zucker model\n",
    "ax.axhline(1.06, linestyle=\":\", linewidth=2, color=\"orange\", zorder=0)\n",
    "ax.fill_between([-40, 0], [(1.06 + 0.63), (1.06+0.63)], [(1.06 - 0.39), (1.06-0.39)], color=\"orange\", zorder=-1, alpha=0.2)\n",
    "ax.fill_between([-40, 0], [0.1, 0.1], [0.3, 0.3], color=\"royalblue\", zorder=-1, alpha=0.2)\n",
    "\n",
    "# decorate axes\n",
    "ax.set_ylabel(L\"\\mathrm{\\Delta t_{SN} \\ [Myr]}\", fontsize=fontsize)\n",
    "ax.set_xlabel(L\"\\mathrm{Time \\ [Myr]}\", fontsize=fontsize)\n",
    "ax.legend(loc=\"best\", frameon=false, handlelength=1.5, fontsize=fontsize, title=L\"\\mathrm{t_{delay} \\ [Myr]}\")\n",
    "ax.tick_params(axis=\"both\", labelsize=fontsize)\n",
    "\n",
    "# set axis limits\n",
    "ax.set_xlim(tlim...)\n",
    "ax.set_ylim(dtlim...)\n",
    "ax.set_yscale(\"log\")\n",
    "\n",
    "for ax in axs[1:2]\n",
    "    ax.set_xticklabels([])\n",
    "end\n",
    "\n",
    "for ax in axs\n",
    "    ax.grid(which=\"major\", axis=\"both\", zorder=-3)\n",
    "    ax.axvline(-14.39, linestyle=\":\", linewidth=2, color=\"orange\", zorder=0)\n",
    "    ax.fill_between([-14.39-0.78, -14.39+0.74], [1e4, 1e4], color=\"orange\", zorder=-1, alpha=0.2)\n",
    "\n",
    "    ax.fill_between([-5.5, -3.5], [1e4, 1e4], color=\"royalblue\", zorder=-1, alpha=0.2)\n",
    "end\n",
    "\n",
    "savefig(output_directory * \"Histories_$(family).pdf\", bbox_inches=\"tight\", dpi=300)\n",
    "fig.clear()"
   ]
  },
  {
   "cell_type": "markdown",
   "id": "8c508f76",
   "metadata": {},
   "source": [
    "## C.3 Trajectories in Alpha Per"
   ]
  },
  {
   "cell_type": "code",
   "execution_count": null,
   "id": "471a15cc",
   "metadata": {},
   "outputs": [],
   "source": [
    "# colormap for gas\n",
    "cnorm = matplotlib.colors.LogNorm(vmin=2e0, vmax=8e1, clip=true)\n",
    "cmap  = ColorMap(ColorSchemes.gist_yarg.colors)\n",
    "\n",
    "# norm and color for Supernova Rate\n",
    "cmap_SNR = ColorScheme(ColorSchemes.inferno.colors)\n",
    "cmap_SNR2 = ColorMap(ColorSchemes.inferno.colors)\n",
    "norm_SNR = matplotlib.colors.Normalize(vmin=2e-2, vmax=0.2, clip=true)\n",
    "\n",
    "# axis limits\n",
    "xlim = [-400, 400]\n",
    "ylim = [-400, 400]\n",
    "\n",
    "# orbit of LSR\n",
    "x_center = cicular_orbit.(t_orbit)\n",
    "\n",
    "# Create figure\n",
    "fig = plt.figure(figsize=(24, 8), num=3, clear=true)\n",
    "\n",
    "# create axes\n",
    "gs = matplotlib.gridspec.GridSpec(1, 4)\n",
    "subplots_adjust(wspace=0.02, hspace=0.0)\n",
    "\n",
    "# first axis (past 5 Myr)\n",
    "ax = subplot(gs[1], title=\"Past 5 Myr\")\n",
    "\n",
    "# plot gas distribution and local bubble\n",
    "ax.imshow(permutedims(Σ_gas), origin=\"lower\", extent=[-1250, 1250, -1250, 1250], norm=cnorm, cmap=cmap, zorder=0)\n",
    "ax.imshow(LB, origin=\"lower\", extent=[-500, 500, -500, 500], zorder=1)\n",
    "\n",
    "# plot line used for geometry cut\n",
    "ax.plot([-100, 400], [400, 0], color=\"purple\", linestyle=\"--\", linewidth=2)\n",
    "\n",
    "# get trajectory in time window\n",
    "# time indices (depend on choice of t_orbit)\n",
    "itmax = 51\n",
    "itmin = 1\n",
    "its = itmax:-1:itmin\n",
    "\n",
    "# get trajectory of each cluster\n",
    "traj = [[get_XYZ_hel(o.getOrbit()[it, :]) - x_center[it] for it in its] for o in orbits[\"αPer\"]]\n",
    "Rate = [[SN_Rates[\"αPer\"][icl][it, 2] for it in its] for icl in eachindex(traj)]\n",
    "Prob = [[P_active[\"αPer\"][icl][it] for it in its] for icl in eachindex(traj)]\n",
    "\n",
    "# plot trajectory of each cluster\n",
    "for icl in eachindex(traj)\n",
    "    x = [pt[1] for pt in traj[icl]]\n",
    "    y = [pt[2] for pt in traj[icl]]\n",
    "    snr = Rate[icl]\n",
    "    p   = Prob[icl]\n",
    "    \n",
    "    # plot line in linesegments indicating time\n",
    "    for it in eachindex(x)\n",
    "        if it < length(x)\n",
    "            ax.plot(x[it:it+1], y[it:it+1], linewidth=2.5 * it/(itmax - itmin), zorder=2, color=get_color(cmap_SNR, sqrt(snr[it] * snr[it+1]), norm=norm_SNR), \n",
    "                    alpha=p[it])\n",
    "        end\n",
    "    end\n",
    "end\n",
    "\n",
    "# decorate axes\n",
    "ax.set_xticklabels([])\n",
    "ax.set_yticklabels([])\n",
    "\n",
    "# set axis limits\n",
    "ax.set_xlim(xlim...)\n",
    "ax.set_ylim(ylim...)\n",
    "#ax.legend(loc=\"best\", frameon=false, handlelength=1.5, fontsize=fontsize)\n",
    "ax.tick_params(axis=\"both\", labelsize=fontsize)\n",
    "\n",
    "# ruler\n",
    "ax.plot([-350, -150], [-350, -350], color=\"black\", linewidth=2)\n",
    "ax.annotate(\"200 pc\", xy=(-325, -325), fontsize=fontsize, color=\"black\")\n",
    "\n",
    "# number of SNe\n",
    "ax.annotate(L\"\\mathrm{%$(N_SN_5[2])^{+%$(N_SN_5[3] - N_SN_5[2])}_{-%$(N_SN_5[2] - N_SN_5[1])} \\ SNe}\", xy=(125, -325), fontsize=fontsize, color=\"blue\")\n",
    "\n",
    "# next axis (past 5 - 10 Myr)\n",
    "ax = subplot(gs[2], title=\"Past 10 - 5 Myr\")\n",
    "\n",
    "# plot gas distribution and local bubble\n",
    "ax.imshow(permutedims(Σ_gas), origin=\"lower\", extent=[-1250, 1250, -1250, 1250], norm=cnorm, cmap=cmap, zorder=0)\n",
    "ax.imshow(LB, origin=\"lower\", extent=[-500, 500, -500, 500], zorder=1)\n",
    "\n",
    "# plot line used for geometry cut\n",
    "ax.plot([-100, 400], [400, 0], color=\"purple\", linestyle=\"--\", linewidth=2)\n",
    "\n",
    "# get trajectory in time window\n",
    "# time indices (depend on choice of t_orbit)\n",
    "itmax = 101\n",
    "itmin = 51\n",
    "its = itmax:-1:itmin\n",
    "\n",
    "# get trajectory of each cluster\n",
    "traj = [[get_XYZ_hel(o.getOrbit()[it, :]) - x_center[it] for it in its] for o in orbits[\"αPer\"]]\n",
    "Rate = [[SN_Rates[\"αPer\"][icl][it, 2] for it in its] for icl in eachindex(traj)]\n",
    "Prob = [[P_active[\"αPer\"][icl][it] for it in its] for icl in eachindex(traj)]\n",
    "\n",
    "# plot trajectory of each cluster\n",
    "for icl in eachindex(traj)\n",
    "    x = [pt[1] for pt in traj[icl]]\n",
    "    y = [pt[2] for pt in traj[icl]]\n",
    "    snr = Rate[icl]\n",
    "    p   = Prob[icl]\n",
    "    \n",
    "    # plot line in linesegments indicating time\n",
    "    for it in eachindex(x)\n",
    "        if it < length(x)\n",
    "            ax.plot(x[it:it+1], y[it:it+1], linewidth=2.5 * it/(itmax - itmin), zorder=2, color=get_color(cmap_SNR, sqrt(snr[it] * snr[it+1]), norm=norm_SNR), \n",
    "                    alpha=p[it])\n",
    "        end\n",
    "    end\n",
    "end\n",
    "\n",
    "# decorate axes\n",
    "ax.set_xticklabels([])\n",
    "ax.set_yticklabels([])\n",
    "\n",
    "# set axis limits\n",
    "ax.set_xlim(xlim...)\n",
    "ax.set_ylim(ylim...)\n",
    "#ax.legend(loc=\"best\", frameon=false, handlelength=1.5, fontsize=fontsize)\n",
    "ax.tick_params(axis=\"both\", labelsize=fontsize)\n",
    "\n",
    "# number of SNe\n",
    "ax.annotate(L\"\\mathrm{%$(N_SN_10[2])^{+%$(N_SN_10[3] - N_SN_10[2])}_{-%$(N_SN_10[2] - N_SN_10[1])} \\ SNe}\", xy=(150, -325), fontsize=fontsize, color=\"blue\")\n",
    "\n",
    "# colorbar\n",
    "sm   = plt.cm.ScalarMappable(cmap=cmap_SNR2, norm=norm_SNR)\n",
    "s    = ax.get_position()\n",
    "cbaxes = fig.add_axes([s.x0 + 0.05 * s.width, s.y0 + 0.15 * s.height, 0.4 * s.width, 0.03 * s.height])\n",
    "cb = colorbar(sm, cax=cbaxes, orientation=\"horizontal\")\n",
    "cb.set_label(label=L\"\\mathrm{SN \\ Rate \\ [Myr^{-1}]}\", size=fontsize, color=\"black\")\n",
    "cb.ax.tick_params(axis=\"x\", labelsize=0.8fontsize, labelcolor=\"black\")\n",
    "\n",
    "# next axis (past 10 - 15 Myr)\n",
    "ax = subplot(gs[3], title=\"Past 15 - 10 Myr\")\n",
    "\n",
    "# plot gas distribution and local bubble\n",
    "ax.imshow(permutedims(Σ_gas), origin=\"lower\", extent=[-1250, 1250, -1250, 1250], norm=cnorm, cmap=cmap, zorder=0)\n",
    "ax.imshow(LB, origin=\"lower\", extent=[-500, 500, -500, 500], zorder=1)\n",
    "\n",
    "# plot line used for geometry cut\n",
    "ax.plot([-100, 400], [400, 0], color=\"purple\", linestyle=\"--\", linewidth=2)\n",
    "\n",
    "# get trajectory in time window\n",
    "# time indices (depend on choice of t_orbit)\n",
    "itmax = 151\n",
    "itmin = 101\n",
    "its = itmax:-1:itmin\n",
    "\n",
    "# get trajectory of each cluster\n",
    "traj = [[get_XYZ_hel(o.getOrbit()[it, :]) - x_center[it] for it in its] for o in orbits[\"αPer\"]]\n",
    "Rate = [[SN_Rates[\"αPer\"][icl][it, 2] for it in its] for icl in eachindex(traj)]\n",
    "Prob = [[P_active[\"αPer\"][icl][it] for it in its] for icl in eachindex(traj)]\n",
    "\n",
    "# plot trajectory of each cluster\n",
    "for icl in eachindex(traj)\n",
    "    x = [pt[1] for pt in traj[icl]]\n",
    "    y = [pt[2] for pt in traj[icl]]\n",
    "    snr = Rate[icl]\n",
    "    p   = Prob[icl]\n",
    "    \n",
    "    # plot line in linesegments indicating time\n",
    "    for it in eachindex(x)\n",
    "        if it < length(x)\n",
    "            ax.plot(x[it:it+1], y[it:it+1], linewidth=2.5 * it/(itmax - itmin), zorder=2, color=get_color(cmap_SNR, sqrt(snr[it] * snr[it+1]), norm=norm_SNR), \n",
    "                    alpha=p[it])\n",
    "        end\n",
    "    end\n",
    "    \n",
    "end\n",
    "\n",
    "# decorate axes\n",
    "ax.set_xticklabels([])\n",
    "ax.set_yticklabels([])\n",
    "\n",
    "# set axis limits\n",
    "ax.set_xlim(xlim...)\n",
    "ax.set_ylim(ylim...)\n",
    "#ax.legend(loc=\"best\", frameon=false, handlelength=1.5, fontsize=fontsize)\n",
    "ax.tick_params(axis=\"both\", labelsize=fontsize)\n",
    "\n",
    "# number of SNe\n",
    "ax.annotate(L\"\\mathrm{%$(N_SN_15[2])^{+%$(N_SN_15[3] - N_SN_15[2])}_{-%$(N_SN_15[2] - N_SN_15[1])} \\ SNe}\", xy=(150, -325), fontsize=fontsize, color=\"blue\")\n",
    "\n",
    "# next axis (past 15 - 20 Myr)\n",
    "ax = subplot(gs[4], title=\"Past 20 - 15 Myr\")\n",
    "\n",
    "# plot gas distribution and local bubble\n",
    "ax.imshow(permutedims(Σ_gas), origin=\"lower\", extent=[-1250, 1250, -1250, 1250], norm=cnorm, cmap=cmap, zorder=0)\n",
    "ax.imshow(LB, origin=\"lower\", extent=[-500, 500, -500, 500], zorder=1)\n",
    "\n",
    "# plot line used for geometry cut\n",
    "ax.plot([-100, 400], [400, 0], color=\"purple\", linestyle=\"--\", linewidth=2)\n",
    "\n",
    "# get trajectory in time window\n",
    "# time indices (depend on choice of t_orbit)\n",
    "itmax = 201\n",
    "itmin = 151\n",
    "its = itmax:-1:itmin\n",
    "\n",
    "# get trajectory of each cluster\n",
    "traj = [[get_XYZ_hel(o.getOrbit()[it, :]) - x_center[it] for it in its] for o in orbits[\"αPer\"]]\n",
    "Rate = [[SN_Rates[\"αPer\"][icl][it, 2] for it in its] for icl in eachindex(traj)]\n",
    "Prob = [[P_active[\"αPer\"][icl][it] for it in its] for icl in eachindex(traj)]\n",
    "\n",
    "# plot trajectory of each cluster\n",
    "for icl in eachindex(traj)\n",
    "    x = [pt[1] for pt in traj[icl]]\n",
    "    y = [pt[2] for pt in traj[icl]]\n",
    "    snr = Rate[icl]\n",
    "    p   = Prob[icl]\n",
    "    \n",
    "    # plot line in linesegments indicating time\n",
    "    for it in eachindex(x)\n",
    "        if it < length(x)\n",
    "            ax.plot(x[it:it+1], y[it:it+1], linewidth=2.5 * it/(itmax - itmin), zorder=2, color=get_color(cmap_SNR, sqrt(snr[it] * snr[it+1]), norm=norm_SNR), \n",
    "                    alpha=p[it])\n",
    "        end\n",
    "    end \n",
    "end\n",
    "\n",
    "# decorate axes\n",
    "ax.set_xticklabels([])\n",
    "ax.set_yticklabels([])\n",
    "\n",
    "# set axis limits\n",
    "ax.set_xlim(xlim...)\n",
    "ax.set_ylim(ylim...)\n",
    "#ax.legend(loc=\"best\", frameon=false, handlelength=1.5, fontsize=fontsize)\n",
    "ax.tick_params(axis=\"both\", labelsize=fontsize)\n",
    "\n",
    "# number of SNe\n",
    "ax.annotate(L\"\\mathrm{%$(N_SN_20[2])^{+%$(N_SN_20[3] - N_SN_20[2])}_{-%$(N_SN_20[2] - N_SN_20[1])} \\ SNe}\", xy=(150, -325), fontsize=fontsize, color=\"blue\")\n",
    "\n",
    "savefig(output_directory * \"Trajectories_αPer.pdf\", bbox_inches=\"tight\", dpi=300)\n",
    "fig.clear()"
   ]
  }
 ],
 "metadata": {
  "kernelspec": {
   "display_name": "Julia 1.10.0",
   "language": "julia",
   "name": "julia-1.10"
  },
  "language_info": {
   "file_extension": ".jl",
   "mimetype": "application/julia",
   "name": "julia",
   "version": "1.10.0"
  }
 },
 "nbformat": 4,
 "nbformat_minor": 5
}
